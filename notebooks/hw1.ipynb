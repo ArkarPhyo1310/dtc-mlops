{
 "cells": [
  {
   "cell_type": "code",
   "execution_count": 1,
   "id": "c0623358",
   "metadata": {},
   "outputs": [
    {
     "name": "stdout",
     "output_type": "stream",
     "text": [
      "Python 3.12.3\n"
     ]
    }
   ],
   "source": [
    "!python --version"
   ]
  },
  {
   "cell_type": "code",
   "execution_count": 2,
   "id": "c33aa3ea",
   "metadata": {},
   "outputs": [
    {
     "name": "stdout",
     "output_type": "stream",
     "text": [
      "--2025-05-19 10:54:12--  https://d37ci6vzurychx.cloudfront.net/trip-data/yellow_tripdata_2023-01.parquet\n",
      "Resolving d37ci6vzurychx.cloudfront.net (d37ci6vzurychx.cloudfront.net)... 3.164.82.197, 3.164.82.112, 3.164.82.160, ...\n",
      "Connecting to d37ci6vzurychx.cloudfront.net (d37ci6vzurychx.cloudfront.net)|3.164.82.197|:443... connected.\n",
      "HTTP request sent, awaiting response... 200 OK\n",
      "Length: 47673370 (45M) [application/x-www-form-urlencoded]\n",
      "Saving to: ‘../data/yellow_tripdata_2023-01.parquet’\n",
      "\n",
      "../data/yellow_trip 100%[===================>]  45.46M  11.2MB/s    in 4.9s    \n",
      "\n",
      "2025-05-19 10:54:17 (9.23 MB/s) - ‘../data/yellow_tripdata_2023-01.parquet’ saved [47673370/47673370]\n",
      "\n",
      "--2025-05-19 10:54:18--  https://d37ci6vzurychx.cloudfront.net/trip-data/yellow_tripdata_2023-02.parquet\n",
      "Resolving d37ci6vzurychx.cloudfront.net (d37ci6vzurychx.cloudfront.net)... 3.164.82.40, 3.164.82.197, 3.164.82.112, ...\n",
      "Connecting to d37ci6vzurychx.cloudfront.net (d37ci6vzurychx.cloudfront.net)|3.164.82.40|:443... connected.\n",
      "HTTP request sent, awaiting response... 200 OK\n",
      "Length: 47748012 (46M) [application/x-www-form-urlencoded]\n",
      "Saving to: ‘../data/yellow_tripdata_2023-02.parquet’\n",
      "\n",
      "../data/yellow_trip 100%[===================>]  45.54M  10.1MB/s    in 5.1s    \n",
      "\n",
      "2025-05-19 10:54:23 (8.90 MB/s) - ‘../data/yellow_tripdata_2023-02.parquet’ saved [47748012/47748012]\n",
      "\n"
     ]
    }
   ],
   "source": [
    "!wget https://d37ci6vzurychx.cloudfront.net/trip-data/yellow_tripdata_2023-01.parquet \\\n",
    "    -O ../data/yellow_tripdata_2023-01.parquet\n",
    "!wget https://d37ci6vzurychx.cloudfront.net/trip-data/yellow_tripdata_2023-02.parquet \\\n",
    "    -O ../data/yellow_tripdata_2023-02.parquet"
   ]
  },
  {
   "cell_type": "code",
   "execution_count": 3,
   "id": "ffe5cff5",
   "metadata": {},
   "outputs": [],
   "source": [
    "import pandas as pd"
   ]
  },
  {
   "cell_type": "code",
   "execution_count": 4,
   "id": "0a69b316",
   "metadata": {},
   "outputs": [
    {
     "name": "stdout",
     "output_type": "stream",
     "text": [
      "   VendorID tpep_pickup_datetime tpep_dropoff_datetime  passenger_count  \\\n",
      "0         2  2023-01-01 00:32:10   2023-01-01 00:40:36              1.0   \n",
      "1         2  2023-01-01 00:55:08   2023-01-01 01:01:27              1.0   \n",
      "2         2  2023-01-01 00:25:04   2023-01-01 00:37:49              1.0   \n",
      "3         1  2023-01-01 00:03:48   2023-01-01 00:13:25              0.0   \n",
      "4         2  2023-01-01 00:10:29   2023-01-01 00:21:19              1.0   \n",
      "\n",
      "   trip_distance  RatecodeID store_and_fwd_flag  PULocationID  DOLocationID  \\\n",
      "0           0.97         1.0                  N           161           141   \n",
      "1           1.10         1.0                  N            43           237   \n",
      "2           2.51         1.0                  N            48           238   \n",
      "3           1.90         1.0                  N           138             7   \n",
      "4           1.43         1.0                  N           107            79   \n",
      "\n",
      "   payment_type  fare_amount  extra  mta_tax  tip_amount  tolls_amount  \\\n",
      "0             2          9.3   1.00      0.5        0.00           0.0   \n",
      "1             1          7.9   1.00      0.5        4.00           0.0   \n",
      "2             1         14.9   1.00      0.5       15.00           0.0   \n",
      "3             1         12.1   7.25      0.5        0.00           0.0   \n",
      "4             1         11.4   1.00      0.5        3.28           0.0   \n",
      "\n",
      "   improvement_surcharge  total_amount  congestion_surcharge  airport_fee  \n",
      "0                    1.0         14.30                   2.5         0.00  \n",
      "1                    1.0         16.90                   2.5         0.00  \n",
      "2                    1.0         34.90                   2.5         0.00  \n",
      "3                    1.0         20.85                   0.0         1.25  \n",
      "4                    1.0         19.68                   2.5         0.00  \n",
      "VendorID                          int64\n",
      "tpep_pickup_datetime     datetime64[us]\n",
      "tpep_dropoff_datetime    datetime64[us]\n",
      "passenger_count                 float64\n",
      "trip_distance                   float64\n",
      "RatecodeID                      float64\n",
      "store_and_fwd_flag               object\n",
      "PULocationID                      int64\n",
      "DOLocationID                      int64\n",
      "payment_type                      int64\n",
      "fare_amount                     float64\n",
      "extra                           float64\n",
      "mta_tax                         float64\n",
      "tip_amount                      float64\n",
      "tolls_amount                    float64\n",
      "improvement_surcharge           float64\n",
      "total_amount                    float64\n",
      "congestion_surcharge            float64\n",
      "airport_fee                     float64\n",
      "dtype: object\n"
     ]
    }
   ],
   "source": [
    "# Sneaking into data\n",
    "df = pd.read_parquet(\"../data/yellow_tripdata_2023-01.parquet\")\n",
    "print(df.head())\n",
    "print(df.dtypes)"
   ]
  },
  {
   "cell_type": "code",
   "execution_count": 5,
   "id": "17b3454c",
   "metadata": {},
   "outputs": [
    {
     "name": "stdout",
     "output_type": "stream",
     "text": [
      "Columns count: 19\n"
     ]
    }
   ],
   "source": [
    "columns_cnt = len(df.columns)\n",
    "print(f\"Columns count: {columns_cnt}\")"
   ]
  },
  {
   "cell_type": "code",
   "execution_count": 6,
   "id": "879fabff",
   "metadata": {},
   "outputs": [],
   "source": [
    "df[\"duration\"] = df[\"tpep_dropoff_datetime\"] - df[\"tpep_pickup_datetime\"]\n",
    "df[\"duration\"] = df[\"duration\"].apply(lambda td: td.total_seconds() / 60)"
   ]
  },
  {
   "cell_type": "code",
   "execution_count": 7,
   "id": "977c4919",
   "metadata": {},
   "outputs": [
    {
     "name": "stdout",
     "output_type": "stream",
     "text": [
      "Standard Deviation of the trips durations in Jan: 42.594351\n"
     ]
    }
   ],
   "source": [
    "duration_std = df[\"duration\"].std()\n",
    "print(f\"Standard Deviation of the trips durations in Jan: {duration_std:2f}\")"
   ]
  },
  {
   "cell_type": "code",
   "execution_count": 8,
   "id": "91efbc47",
   "metadata": {},
   "outputs": [],
   "source": [
    "filtered_df = df[(df[\"duration\"] >= 1) & (df[\"duration\"] <= 60)]"
   ]
  },
  {
   "cell_type": "code",
   "execution_count": 9,
   "id": "8d5651b8",
   "metadata": {},
   "outputs": [
    {
     "name": "stdout",
     "output_type": "stream",
     "text": [
      "Fraction of the records left: 98 %\n"
     ]
    }
   ],
   "source": [
    "frac = int((len(filtered_df) / len(df)) * 100)\n",
    "print(f\"Fraction of the records left: {frac} %\")"
   ]
  },
  {
   "cell_type": "code",
   "execution_count": 10,
   "id": "1b5cf76a",
   "metadata": {},
   "outputs": [],
   "source": [
    "from sklearn.feature_extraction import DictVectorizer\n",
    "from sklearn.linear_model import LinearRegression\n",
    "from sklearn.metrics import root_mean_squared_error\n",
    "\n",
    "features = [\"PULocationID\", \"DOLocationID\"]"
   ]
  },
  {
   "cell_type": "code",
   "execution_count": 11,
   "id": "cce73e18",
   "metadata": {},
   "outputs": [],
   "source": [
    "def preprocess(filename: str, features: list) -> pd.DataFrame:\n",
    "    df = pd.read_parquet(filename)\n",
    "\n",
    "    df[\"duration\"] = df[\"tpep_dropoff_datetime\"] - df[\"tpep_pickup_datetime\"]\n",
    "    df[\"duration\"] = df[\"duration\"].apply(lambda td: td.total_seconds() / 60)\n",
    "\n",
    "    df = df[(df[\"duration\"] >= 1) & (df[\"duration\"] <= 60)]\n",
    "\n",
    "    df[features] = df[features].astype(str)\n",
    "\n",
    "    return df"
   ]
  },
  {
   "cell_type": "code",
   "execution_count": 12,
   "id": "6b2a6ffe",
   "metadata": {},
   "outputs": [],
   "source": [
    "dv = DictVectorizer()\n",
    "\n",
    "\n",
    "def onehot_encode(df: pd.DataFrame, features: list, training: bool = True) -> tuple:\n",
    "    target = \"duration\"\n",
    "\n",
    "    data = df[features].to_dict(orient=\"records\")\n",
    "    X_data = dv.fit_transform(data) if training else dv.transform(data)\n",
    "    y_data = df[target].values\n",
    "\n",
    "    return X_data, y_data"
   ]
  },
  {
   "cell_type": "code",
   "execution_count": 13,
   "id": "2e85f6e3",
   "metadata": {},
   "outputs": [],
   "source": [
    "model = LinearRegression()\n",
    "\n",
    "\n",
    "def fit(x_train, y_train, x_val=None, y_val=None) -> float:\n",
    "    model.fit(x_train, y_train)\n",
    "\n",
    "    y_pred = model.predict(x_val if x_val is not None else x_train)\n",
    "\n",
    "    rmse = root_mean_squared_error(y_true=y_val if y_val is not None else y_train, y_pred=y_pred)\n",
    "\n",
    "    return rmse"
   ]
  },
  {
   "cell_type": "code",
   "execution_count": 14,
   "id": "adedf629",
   "metadata": {},
   "outputs": [],
   "source": [
    "train_df = preprocess(\"../data/yellow_tripdata_2023-01.parquet\", features=features)\n",
    "val_df = preprocess(\"../data/yellow_tripdata_2023-02.parquet\", features=features)"
   ]
  },
  {
   "cell_type": "code",
   "execution_count": 15,
   "id": "d7cf84fa",
   "metadata": {},
   "outputs": [],
   "source": [
    "X_train, y_train = onehot_encode(train_df, features=features, training=True)\n",
    "X_val, y_val = onehot_encode(val_df, features=features, training=False)"
   ]
  },
  {
   "cell_type": "code",
   "execution_count": 16,
   "id": "a8af96bf",
   "metadata": {},
   "outputs": [
    {
     "name": "stdout",
     "output_type": "stream",
     "text": [
      "Dimensionality of training matrix: (3009173, 515)\n",
      "Dimensionality of validation matrix: (2855951, 515)\n"
     ]
    }
   ],
   "source": [
    "print(f\"Dimensionality of training matrix: {X_train.shape}\")\n",
    "print(f\"Dimensionality of validation matrix: {X_val.shape}\")"
   ]
  },
  {
   "cell_type": "code",
   "execution_count": 17,
   "id": "45f82316",
   "metadata": {},
   "outputs": [
    {
     "name": "stdout",
     "output_type": "stream",
     "text": [
      "RMSE on Training set: 7.649261822035489\n"
     ]
    }
   ],
   "source": [
    "rmse_train = fit(X_train, y_train)\n",
    "print(f\"RMSE on Training set: {rmse_train}\")"
   ]
  },
  {
   "cell_type": "code",
   "execution_count": 18,
   "id": "bdfd594d",
   "metadata": {},
   "outputs": [
    {
     "name": "stdout",
     "output_type": "stream",
     "text": [
      "RMSE on Validation set: 7.811821332387183\n"
     ]
    }
   ],
   "source": [
    "rmse_val = fit(X_train, y_train, X_val, y_val)\n",
    "print(f\"RMSE on Validation set: {rmse_val}\")"
   ]
  }
 ],
 "metadata": {
  "kernelspec": {
   "display_name": "mlops_env",
   "language": "python",
   "name": "python3"
  },
  "language_info": {
   "codemirror_mode": {
    "name": "ipython",
    "version": 3
   },
   "file_extension": ".py",
   "mimetype": "text/x-python",
   "name": "python",
   "nbconvert_exporter": "python",
   "pygments_lexer": "ipython3",
   "version": "3.12.3"
  }
 },
 "nbformat": 4,
 "nbformat_minor": 5
}
